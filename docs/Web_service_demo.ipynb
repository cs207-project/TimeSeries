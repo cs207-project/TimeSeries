{
 "cells": [
  {
   "cell_type": "code",
   "execution_count": 1,
   "metadata": {
    "collapsed": true
   },
   "outputs": [],
   "source": [
    "import os, sys, inspect\n",
    "currentdir = os.path.dirname(os.path.abspath(inspect.getfile(inspect.currentframe())))\n",
    "parentdir = os.path.dirname(currentdir)\n",
    "sys.path.insert(0, parentdir)"
   ]
  },
  {
   "cell_type": "code",
   "execution_count": 2,
   "metadata": {
    "collapsed": true
   },
   "outputs": [],
   "source": [
    "sys.path.append('/Users/Elena/Desktop/TimeSeries/')"
   ]
  },
  {
   "cell_type": "code",
   "execution_count": 3,
   "metadata": {
    "collapsed": false
   },
   "outputs": [
    {
     "name": "stderr",
     "output_type": "stream",
     "text": [
      "//anaconda/envs/py35/lib/python3.5/site-packages/IPython/html.py:14: ShimWarning: The `IPython.html` package has been deprecated. You should import from `notebook` instead. `IPython.html.widgets` has moved to `ipywidgets`.\n",
      "  \"`IPython.html.widgets` has moved to `ipywidgets`.\", ShimWarning)\n"
     ]
    }
   ],
   "source": [
    "import time\n",
    "import signal\n",
    "import subprocess\n",
    "import numpy as np\n",
    "from scipy.stats import norm\n",
    "import matplotlib.pyplot as plt\n",
    "%matplotlib inline\n",
    "import seaborn as sns\n",
    "sns.set_style('white')\n",
    "sns.set_context('notebook')"
   ]
  },
  {
   "cell_type": "code",
   "execution_count": 4,
   "metadata": {
    "collapsed": false
   },
   "outputs": [],
   "source": [
    "from web.web_for_coverage import WebInterface\n",
    "from timeseries.TimeSeries import TimeSeries"
   ]
  },
  {
   "cell_type": "code",
   "execution_count": 5,
   "metadata": {
    "collapsed": true
   },
   "outputs": [],
   "source": [
    "\n",
    "# when running from the terminal\n",
    "# python go_server_persistent.py --ts_length 100 --db_name 'demo'\n",
    "\n",
    "# here we load the server as a subprocess for demonstration purposes\n",
    "server = subprocess.Popen(['python', '../go_server.py'])\n",
    "time.sleep(1)\n",
    "\n",
    "web = subprocess.Popen(['python', '../go_web.py'])\n",
    "time.sleep(1)\n",
    "\n"
   ]
  },
  {
   "cell_type": "code",
   "execution_count": 6,
   "metadata": {
    "collapsed": true
   },
   "outputs": [],
   "source": [
    "web_interface = WebInterface()"
   ]
  },
  {
   "cell_type": "code",
   "execution_count": 8,
   "metadata": {
    "collapsed": false
   },
   "outputs": [
    {
     "name": "stdout",
     "output_type": "stream",
     "text": [
      "(200, b'\"Successfully added trigger\"')\n"
     ]
    }
   ],
   "source": [
    "results = web_interface.add_trigger(\n",
    "            'junk', 'insert_ts', None, 'db:one:ts')\n",
    "assert results[0] == 200\n",
    "print(results)"
   ]
  },
  {
   "cell_type": "code",
   "execution_count": 17,
   "metadata": {
    "collapsed": false
   },
   "outputs": [
    {
     "name": "stdout",
     "output_type": "stream",
     "text": [
      "b'\"Successfully added trigger\"'\n"
     ]
    }
   ],
   "source": [
    "results = web_interface.add_trigger(\n",
    "            'stats', 'insert_ts', ['mean', 'std'], None)\n",
    "assert results[0] == 200\n",
    "print(results[1])"
   ]
  },
  {
   "cell_type": "code",
   "execution_count": 13,
   "metadata": {
    "collapsed": true
   },
   "outputs": [],
   "source": [
    "def tsmaker(m, s, j):\n",
    "    '''\n",
    "    Helper function: randomly generates a time series for testing.\n",
    "\n",
    "    Parameters\n",
    "    ----------\n",
    "    m : float\n",
    "        Mean value for generating time series data\n",
    "    s : float\n",
    "        Standard deviation value for generating time series data\n",
    "    j : float\n",
    "        Quantifies the \"jitter\" to add to the time series data\n",
    "\n",
    "    Returns\n",
    "    -------\n",
    "    A time series and associated meta data.\n",
    "    '''\n",
    "\n",
    "    # generate metadata\n",
    "    meta = {}\n",
    "    meta['order'] = int(np.random.choice(\n",
    "        [-5, -4, -3, -2, -1, 0, 1, 2, 3, 4, 5]))\n",
    "    meta['blarg'] = int(np.random.choice([1, 2]))\n",
    "\n",
    "    # generate time series data\n",
    "    t = np.arange(0.0, 1.0, 0.01)\n",
    "    v = norm.pdf(t, m, s) + j * np.random.randn(ts_length)\n",
    "\n",
    "    # return time series and metadata\n",
    "    return meta, TimeSeries(t, v)"
   ]
  },
  {
   "cell_type": "code",
   "execution_count": 32,
   "metadata": {
    "collapsed": false
   },
   "outputs": [],
   "source": [
    "mus = np.random.uniform(low=0.0, high=1.0, size=50)\n",
    "sigs = np.random.uniform(low=0.05, high=0.4, size=50)\n",
    "jits = np.random.uniform(low=0.05, high=0.2, size=50)\n",
    "ts_length = 100\n",
    "\n",
    "# initialize dictionaries for time series and their metadata\n",
    "tsdict = {}\n",
    "metadict = {}\n",
    "for i, m, s, j in zip(range(50), mus, sigs, jits):\n",
    "    meta, tsrs = tsmaker(m, s, j)\n",
    "    # the primary key format is ts-1, ts-2, etc\n",
    "    pk = \"ts-{}\".format(i)\n",
    "    tsdict[pk] = tsrs\n",
    "    meta['vp'] = False # augment metadata with a boolean asking if this is a  VP.\n",
    "    metadict[pk] = meta\n",
    "\n",
    "\n",
    "vpkeys = [\"ts-{}\".format(i) for i in np.random.choice(range(50), size=5, replace=False)]\n",
    "for i in range(5):\n",
    "    # add 5 triggers to upsert distances to these vantage points\n",
    "    # data = json.dumps({'proc':'corr', 'onwhat':'insert_ts', 'target':[\"d_vp-{}\".format(i)], 'arg':tsdict[vpkeys[i]].to_json()})\n",
    "    # r = requests.post(self.web_url+'/add_trigger', data)\n",
    "\n",
    "    r = web_interface.add_trigger('corr', 'insert_ts', [\"d_vp-{}\".format(i)], tsdict[vpkeys[i]].to_json())\n",
    "    assert(r[0] == 200)\n",
    "    # change the metadata for the vantage points to have meta['vp']=True\n",
    "    metadict[vpkeys[i]]['vp'] = True"
   ]
  },
  {
   "cell_type": "markdown",
   "metadata": {},
   "source": [
    "Having set up the triggers, now insert the time series, and upsert the metadata\n",
    "\n",
    "==========================================\n",
    "\n",
    "When it's first time to insert these keys in TSDB_server,\n",
    "insert_ts will work and return TSDBStatus.OK\n",
    "\n",
    "=========================================="
   ]
  },
  {
   "cell_type": "code",
   "execution_count": 19,
   "metadata": {
    "collapsed": false
   },
   "outputs": [],
   "source": [
    "for k in tsdict:\n",
    "    results = web_interface.insert_ts(k, tsdict[k])\n",
    "    assert results[0] == 200\n",
    "    # upsert meta\n",
    "    results = web_interface.upsert_meta(k, metadict[k])\n",
    "    assert results[0] == 200\n"
   ]
  },
  {
   "cell_type": "code",
   "execution_count": 20,
   "metadata": {
    "collapsed": true
   },
   "outputs": [],
   "source": [
    "results = web_interface.add_trigger(\n",
    "            'junk', 'insert_ts', None, 'db:one:ts')"
   ]
  },
  {
   "cell_type": "code",
   "execution_count": 21,
   "metadata": {
    "collapsed": false
   },
   "outputs": [
    {
     "data": {
      "text/plain": [
       "(200, b'\"Successfully added trigger\"')"
      ]
     },
     "execution_count": 21,
     "metadata": {},
     "output_type": "execute_result"
    }
   ],
   "source": [
    "results"
   ]
  },
  {
   "cell_type": "code",
   "execution_count": 33,
   "metadata": {
    "collapsed": false
   },
   "outputs": [],
   "source": [
    "# ==========================================\n",
    "# However if it's not first time to insert these keys,\n",
    "# insert_ts will return TSDBStatus.INVALID_KEY\n",
    "# ==========================================\n",
    "# pick a random pk\n",
    "idx = np.random.choice(list(tsdict.keys()))\n",
    "\n",
    "# check that the time series is there now\n",
    "results = web_interface.select({\"primary_key\": idx})\n",
    "assert results[0] == 200\n"
   ]
  },
  {
   "cell_type": "code",
   "execution_count": 35,
   "metadata": {
    "collapsed": false
   },
   "outputs": [],
   "source": [
    "# delete an existing time series\n",
    "results = web_interface.delete_ts(idx)\n",
    "assert results[0] == 200\n"
   ]
  },
  {
   "cell_type": "code",
   "execution_count": 36,
   "metadata": {
    "collapsed": false
   },
   "outputs": [],
   "source": [
    "# check that the time series is no longer there\n",
    "results = web_interface.select({\"md\":{\"order\": 1}, \"fields\":[\"ts\"], \"additional\":{\"sort_by\":\"-order\"}})\n",
    "assert results[0] == 200\n"
   ]
  },
  {
   "cell_type": "code",
   "execution_count": 27,
   "metadata": {
    "collapsed": true
   },
   "outputs": [],
   "source": [
    "# add the time series back in\n",
    "results = web_interface.insert_ts(idx, tsdict[idx])\n",
    "assert results[0] == 200"
   ]
  },
  {
   "cell_type": "code",
   "execution_count": null,
   "metadata": {
    "collapsed": true
   },
   "outputs": [],
   "source": []
  }
 ],
 "metadata": {
  "kernelspec": {
   "display_name": "Python 3",
   "language": "python",
   "name": "python3"
  },
  "language_info": {
   "codemirror_mode": {
    "name": "ipython",
    "version": 3
   },
   "file_extension": ".py",
   "mimetype": "text/x-python",
   "name": "python",
   "nbconvert_exporter": "python",
   "pygments_lexer": "ipython3",
   "version": "3.5.1"
  }
 },
 "nbformat": 4,
 "nbformat_minor": 0
}
